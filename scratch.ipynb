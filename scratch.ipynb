{
 "cells": [
  {
   "cell_type": "code",
   "execution_count": null,
   "metadata": {},
   "outputs": [],
   "source": [
    "# print(string.__doc__)\n",
    "# help('string.ascii_lowercase')"
   ]
  }
 ],
 "metadata": {
  "interpreter": {
   "hash": "e465a3a02a4858c6192685cbf0f82dd3e0a2a8a64d169f08afa07faf3f35c4c5"
  },
  "kernelspec": {
   "display_name": "Python 3.9.0 64-bit ('my-env': venv)",
   "language": "python",
   "name": "python3"
  },
  "language_info": {
   "name": "python",
   "version": "3.9.0"
  },
  "orig_nbformat": 4
 },
 "nbformat": 4,
 "nbformat_minor": 2
}
